{
  "cells": [
    {
      "cell_type": "markdown",
      "metadata": {
        "id": "61ftA0yBS3cc"
      },
      "source": [
        "## First Guess"
      ]
    },
    {
      "cell_type": "code",
      "execution_count": null,
      "metadata": {
        "id": "wqkI_f3QS3ci"
      },
      "outputs": [],
      "source": [
        "def create_word_list(file_path):\n",
        "    file = open(file_path, \"r\")\n",
        "    word_list = file.read().splitlines()\n",
        "    file.close()\n",
        "    return word_list\n",
        "\n",
        "dictionary_file_path = \"words_250000_train.txt\"\n",
        "complete_word_list = create_word_list(dictionary_file_path)\n"
      ]
    },
    {
      "cell_type": "code",
      "execution_count": null,
      "metadata": {
        "id": "sl1hrSibS3cn"
      },
      "outputs": [],
      "source": [
        "without_pop_guesses = {1: ['c', 'd', 'e', 'f', 'g', 'h'], 2: ['c', 'w', 'r', 'd', 'i', 'h'], 3: ['a', 's', 'e', 'o', 'c', 'i'], 4: ['a', 'e', 'o', 'i', 'u', 's'], 5: ['a', 'e', 'o', 'i', 'u', 'y'], 6: ['e', 'a', 'o', 'i', 'u', 'y'], 7: ['e', 'a', 'o', 'i', 'u', 'y'], 8: ['e', 'a', 'i', 'o', 'u', 'y'], 9: ['e', 'a', 'o', 'i', 'u', '!'], 10: ['e', 'i', 'o', 'a', 'u', '!'], 11: ['e', 'i', 'o', 'a', 'u', '!'], 12: ['e', 'i', 'o', 'a', 'u', '!'], 13: ['e', 'i', 'o', 'a', '!', '!'], 14: ['e', 'i', 'o', 'a', '!', '!'], 15: ['i', 'e', 'o', 'a', '!', '!'], 16: ['e', 'i', 'o', '!', '!', '!'], 17: ['e', 'i', 'o', '!', '!', '!'], 18: ['i', 'o', 'e', '!', '!', '!'], 19: ['i', 'e', 'a', '!', '!', '!'], 20: ['e', 'i', '!', '!', '!', '!'], 21: ['o', 'i', '!', '!', '!', '!'], 22: ['o', '!', '!', '!', '!', '!'], 23: ['i', '!', '!', '!', '!', '!'], 24: ['o', '!', '!', '!', '!', '!'], 25: ['e', '!', '!', '!', '!', '!'], 26: ['!', '!', '!', '!', '!', '!'], 27: ['o', '!', '!', '!', '!', '!'], 28: ['a', '!', '!', '!', '!', '!'], 29: ['t', '!', '!', '!', '!', '!'], 30: ['!', '!', '!', '!', '!', '!'], 31: ['!', '!', '!', '!', '!', '!'], 32: ['!', '!', '!', '!', '!', '!'], 33: ['!', '!', '!', '!', '!', '!'], 34: ['!', '!', '!', '!', '!', '!'], 35: ['!', '!', '!', '!', '!', '!'], 36: ['!', '!', '!', '!', '!', '!'], 37: ['!', '!', '!', '!', '!', '!'], 38: ['!', '!', '!', '!', '!', '!'], 39: ['!', '!', '!', '!', '!', '!'], 40: ['!', '!', '!', '!', '!', '!'], 41: ['!', '!', '!', '!', '!', '!'], 42: ['!', '!', '!', '!', '!', '!'], 43: ['!', '!', '!', '!', '!', '!'], 44: ['!', '!', '!', '!', '!', '!'], 45: ['!', '!', '!', '!', '!', '!'], 46: ['!', '!', '!', '!', '!', '!'], 47: ['!', '!', '!', '!', '!', '!'], 48: ['!', '!', '!', '!', '!', '!'], 49: ['!', '!', '!', '!', '!', '!']}"
      ]
    },
    {
      "cell_type": "code",
      "execution_count": null,
      "metadata": {
        "id": "wWVIaYwbS3co",
        "outputId": "af1f99c1-b8bc-49f8-de22-1180001e480e",
        "colab": {
          "base_uri": "https://localhost:8080/"
        }
      },
      "outputs": [
        {
          "output_type": "stream",
          "name": "stdout",
          "text": [
            "{'word1': ['guess1', 'guess2'], 'word2': ['guess3']}\n"
          ]
        }
      ],
      "source": [
        "def filter_valid_entries(guess_dict):\n",
        "    # Remove all the '!' from the guesses\n",
        "    filtered_guesses = {}\n",
        "    for word in guess_dict:\n",
        "        filtered_guesses[word] = [entry for entry in guess_dict[word] if entry != '!']\n",
        "    return filtered_guesses\n",
        "\n",
        "# Example dictionary (make sure to replace this with your actual dictionary)\n",
        "without_pop_guesses = {\n",
        "    \"word1\": [\"guess1\", \"guess2\", \"!\"],\n",
        "    \"word2\": [\"guess3\", \"!\"]\n",
        "}\n",
        "\n",
        "filtered_entries = filter_valid_entries(without_pop_guesses)\n",
        "print(filtered_entries)\n"
      ]
    },
    {
      "cell_type": "markdown",
      "metadata": {
        "id": "IslZJsC0S3cq"
      },
      "source": [
        "## Highest Frequncy Guess"
      ]
    },
    {
      "cell_type": "code",
      "execution_count": null,
      "metadata": {
        "id": "viDtuRWWS3cr",
        "outputId": "4072560d-e301-4685-b973-def71030213b",
        "colab": {
          "base_uri": "https://localhost:8080/"
        }
      },
      "outputs": [
        {
          "output_type": "stream",
          "name": "stdout",
          "text": [
            "{'i': 0.004723566505352691, 'r': 0.003394925942220267, 'n': 0.002808329667106614, 'l': 0.002677811995893826, 'e': 0.002412377181404898, 't': 0.0019108373661827246, 'o': 0.0016820648188884, 's': 0.0014870215574131105, 'm': 0.001460624725032996, 'd': 0.001315442146942367, 'c': 0.0012993107493767414, 'p': 0.0011555946619738965, 'h': 0.00110720046927702, 'g': 0.0010837366182724739, 'u': 0.0009752163073764482, 'a': 0.0009693503446253116, 'b': 0.0006613873001906438, 'f': 0.0006511218653761549, 'y': 0.0005836632937380847, 'k': 0.0005836632937380847, 'w': 0.0005338026103534243, 'v': 0.0002302390379821088, 'x': 9.825487608153688e-05, 'j': 8.945593195483209e-05, 'z': 7.772400645255903e-05}\n"
          ]
        }
      ],
      "source": [
        "import re\n",
        "\n",
        "def create_word_list(file_path):\n",
        "    file = open(file_path, \"r\")\n",
        "    word_list = file.read().splitlines()\n",
        "    file.close()\n",
        "    return word_list\n",
        "\n",
        "full_word_list = create_word_list(\"words_250000_train.txt\")\n",
        "\n",
        "def most_frequent_letter_in_masked_positions(masked_word):\n",
        "    letter_frequency = {}\n",
        "\n",
        "    for word in full_word_list:\n",
        "        match = re.search(masked_word, word)\n",
        "        if match:\n",
        "            matched_segment = match.group()\n",
        "            for i in range(len(masked_word)):\n",
        "                if masked_word[i] == '.':\n",
        "                    if matched_segment[i] not in letter_frequency:\n",
        "                        letter_frequency[matched_segment[i]] = 1\n",
        "                    else:\n",
        "                        letter_frequency[matched_segment[i]] += 1\n",
        "\n",
        "    # convert the counts to percentages\n",
        "    total_masked_positions = masked_word.count('.') * len(full_word_list)\n",
        "    for letter in letter_frequency:\n",
        "        letter_frequency[letter] = letter_frequency[letter] / total_masked_positions\n",
        "\n",
        "    # sort the dictionary by the values\n",
        "    sorted_letter_frequency = sorted(letter_frequency.items(), key=lambda x: x[1], reverse=True)\n",
        "\n",
        "    return dict(sorted_letter_frequency)\n",
        "\n",
        "result = most_frequent_letter_in_masked_positions(\".o..s\")\n",
        "print(result)\n"
      ]
    },
    {
      "cell_type": "code",
      "execution_count": null,
      "metadata": {
        "id": "78b5VJxKS3cs"
      },
      "outputs": [],
      "source": []
    }
  ],
  "metadata": {
    "kernelspec": {
      "display_name": "base",
      "language": "python",
      "name": "python3"
    },
    "language_info": {
      "codemirror_mode": {
        "name": "ipython",
        "version": 3
      },
      "file_extension": ".py",
      "mimetype": "text/x-python",
      "name": "python",
      "nbconvert_exporter": "python",
      "pygments_lexer": "ipython3",
      "version": "3.10.9"
    },
    "orig_nbformat": 4,
    "colab": {
      "provenance": []
    }
  },
  "nbformat": 4,
  "nbformat_minor": 0
}